{
  "nbformat": 4,
  "nbformat_minor": 0,
  "metadata": {
    "colab": {
      "provenance": []
    },
    "kernelspec": {
      "name": "python3",
      "display_name": "Python 3"
    },
    "language_info": {
      "name": "python"
    }
  },
  "cells": [
    {
      "cell_type": "code",
      "execution_count": 1,
      "metadata": {
        "colab": {
          "base_uri": "https://localhost:8080/"
        },
        "id": "2G_g_VpRWlFY",
        "outputId": "f4fe113c-0c80-4bde-e90e-578e2b78c98d"
      },
      "outputs": [
        {
          "output_type": "stream",
          "name": "stdout",
          "text": [
            "Page fetched successfully!\n",
            "\n",
            "Extracted Headings:\n",
            "Example Domain\n",
            "\n",
            "Data saved to headings.csv\n",
            "Data saved to headings.json\n"
          ]
        }
      ],
      "source": [
        "# Import necessary libraries\n",
        "import requests\n",
        "from bs4 import BeautifulSoup\n",
        "import csv\n",
        "import json\n",
        "\n",
        "# Step 1: Fetch the webpage content\n",
        "url = 'https://example.com'  # Replace with your target URL\n",
        "response = requests.get(url)\n",
        "\n",
        "# Check if the request was successful\n",
        "if response.status_code == 200:\n",
        "    print(\"Page fetched successfully!\")\n",
        "else:\n",
        "    print(\"Failed to retrieve the page\")\n",
        "    exit()  # Stop the execution if page fetch fails\n",
        "\n",
        "# Step 2: Parse the HTML content\n",
        "soup = BeautifulSoup(response.text, 'html.parser')\n",
        "\n",
        "# Step 3: Extract all <h1> and <h2> headings\n",
        "headings = soup.find_all(['h1', 'h2'])\n",
        "\n",
        "# Print extracted headings to verify\n",
        "print(\"\\nExtracted Headings:\")\n",
        "for heading in headings:\n",
        "    print(heading.text)\n",
        "\n",
        "# Step 4: Save the headings to a CSV file\n",
        "with open('headings.csv', mode='w', newline='') as file:\n",
        "    writer = csv.writer(file)\n",
        "    writer.writerow([\"Heading\"])  # Write the header row\n",
        "\n",
        "    # Write each heading text to the CSV file\n",
        "    for heading in headings:\n",
        "        writer.writerow([heading.text])\n",
        "\n",
        "print(\"\\nData saved to headings.csv\")\n",
        "\n",
        "# Step 5: Save the headings to a JSON file\n",
        "headings_text = [heading.text for heading in headings]\n",
        "\n",
        "with open('headings.json', 'w') as json_file:\n",
        "    json.dump(headings_text, json_file)\n",
        "\n",
        "print(\"Data saved to headings.json\")\n"
      ]
    }
  ]
}